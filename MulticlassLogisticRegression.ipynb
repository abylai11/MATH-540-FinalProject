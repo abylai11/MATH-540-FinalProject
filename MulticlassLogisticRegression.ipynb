{
  "cells": [
    {
      "cell_type": "markdown",
      "metadata": {
        "id": "naX06v-7uz03"
      },
      "source": [
        "# Multiclass Logistic Regression(Softmax Regression) implementation from scratch"
      ]
    },
    {
      "cell_type": "code",
      "execution_count": null,
      "metadata": {
        "colab": {
          "base_uri": "https://localhost:8080/"
        },
        "id": "IeHMdzlYI3KF",
        "outputId": "ad4d4c62-ccf2-46af-8c0d-447165f4a335"
      },
      "outputs": [
        {
          "name": "stdout",
          "output_type": "stream",
          "text": [
            "Requirement already satisfied: python-mnist in /usr/local/lib/python3.7/dist-packages (0.7)\n"
          ]
        }
      ],
      "source": [
        "!pip install python-mnist"
      ]
    },
    {
      "cell_type": "code",
      "execution_count": null,
      "metadata": {
        "id": "JCS6aufGELRY"
      },
      "outputs": [],
      "source": [
        "import numpy as np\n",
        "import random\n",
        "import matplotlib.pyplot as plt\n",
        "import pandas as pd\n",
        "from mnist.loader import MNIST"
      ]
    },
    {
      "cell_type": "code",
      "execution_count": null,
      "metadata": {
        "id": "drWa73O1EzdI"
      },
      "outputs": [],
      "source": [
        "def softmax(theta):\n",
        "  theta -= np.max(theta) \n",
        "  return np.exp(theta) / np.sum(np.exp(theta)) "
      ]
    },
    {
      "cell_type": "code",
      "execution_count": null,
      "metadata": {
        "id": "TSyDchYMO9yL"
      },
      "outputs": [],
      "source": [
        "def grad_L(X, y, W, lam, numberofclasses):\n",
        "\n",
        "    total_len, dW = len(y), 0\n",
        "    for i in range(total_len):\n",
        "      y_vector = np.zeros(numberofclasses)\n",
        "      y_vector[y[i]] = 1\n",
        "      dW += np.dot(X[i,:].reshape(X.shape[1],1),(y_vector - softmax(np.dot(W.T,X[i,:]))).reshape(1,numberofclasses))\n",
        "\n",
        "    return ((-1/total_len)*dW + lam*W)"
      ]
    },
    {
      "cell_type": "code",
      "execution_count": null,
      "metadata": {
        "id": "KGD33Eo7Qzzs"
      },
      "outputs": [],
      "source": [
        "def L_function(X, y, W, lam, numberofclasses):\n",
        "\n",
        "    loss, total_len = 0, len(y)\n",
        "    for i in range(total_len):\n",
        "        y_vector = np.zeros(numberofclasses)\n",
        "        y_vector[y[i]] = 1\n",
        "        loss += np.sum(y_vector * np.log(softmax(np.dot(W.T,X[i,:]))))\n",
        "    w_sum = 0\n",
        "    for i in range(X.shape[1]):\n",
        "      for j in range(numberofclasses):\n",
        "        w_sum += W[i,j]**2\n",
        "    \n",
        "    loss = loss * (-1/total_len) + lam/2 * w_sum\n",
        "    return loss\n"
      ]
    },
    {
      "cell_type": "code",
      "execution_count": 196,
      "metadata": {
        "id": "e5jsl8ZZRdrU"
      },
      "outputs": [],
      "source": [
        "def predict(X, W):\n",
        "\n",
        "    y_pred = []\n",
        "    for i in range(X.shape[0]):\n",
        "      y_pred.append(np.argmax(softmax(np.dot(W.T,X[i,:]))))\n",
        "\n",
        "    return y_pred"
      ]
    },
    {
      "cell_type": "code",
      "execution_count": null,
      "metadata": {
        "id": "QnaJ2Zt6Rkd1"
      },
      "outputs": [],
      "source": [
        "def reg_rate(X, y, W):\n",
        "\n",
        "    y_pred = predict(X, W)\n",
        "    accuracy = np.mean(y == y_pred)\n",
        "    return accuracy"
      ]
    },
    {
      "cell_type": "code",
      "execution_count": null,
      "metadata": {
        "id": "6kEO5ZliRtaE"
      },
      "outputs": [],
      "source": [
        "def SGD(X, y, W, batch_size, eta, numberofclasses, iteration_num=100):  \n",
        "\n",
        "    all_Ws = []\n",
        "    for i in range(iteration_num):\n",
        "      list1 = random.sample(range(len(y)), batch_size)\n",
        "      new_x = X[list1[0],:]\n",
        "      new_y = np.array(y[list1[0]])\n",
        "      for i in list1[1:]:\n",
        "        new_x = np.vstack((new_x,X[i,:]))\n",
        "        new_y = np.hstack((new_y,y[i]))\n",
        "      all_Ws.append(W)\n",
        "      W = W - eta * grad_L(new_x,new_y, W, lam, numberofclasses)\n",
        "\n",
        "    return (W, all_Ws)"
      ]
    },
    {
      "cell_type": "markdown",
      "metadata": {
        "id": "vsBXcbYH3QzR"
      },
      "source": [
        "## Testing accuracy of scract implementation on popular datasets"
      ]
    },
    {
      "cell_type": "markdown",
      "metadata": {
        "id": "49swCrnI3oI8"
      },
      "source": [
        "### Iris dataset"
      ]
    },
    {
      "cell_type": "code",
      "execution_count": null,
      "metadata": {
        "id": "srSr2BjFJVsd"
      },
      "outputs": [],
      "source": [
        "from sklearn.model_selection import train_test_split"
      ]
    },
    {
      "cell_type": "code",
      "execution_count": null,
      "metadata": {
        "id": "rqE3UsxF66dg"
      },
      "outputs": [],
      "source": [
        "from sklearn.datasets import load_iris\n",
        "iris = load_iris()\n",
        "X = iris.data\n",
        "y = iris.target\n",
        "X_train, X_test, y_train, y_test = train_test_split(X, y, test_size = 0.25, random_state = 0)"
      ]
    },
    {
      "cell_type": "code",
      "execution_count": null,
      "metadata": {
        "id": "npjcMWVCMXm-"
      },
      "outputs": [],
      "source": [
        "n = X_train.shape[0]\n",
        "dim = X_train.shape[1] \n",
        "num_classes = 3\n",
        "\n",
        "W = 0.001 * np.random.randn(dim, num_classes)\n",
        "\n",
        "\n",
        "batch_size = X_train.shape[0]\n",
        "eta = 0.1653 # learning rate \n",
        "lam = 0.2\n",
        "num_iterations = 300\n",
        "\n",
        "(W_best_sgd, all_xs_sgd200) = SGD(X_train, y_train, W, batch_size=batch_size, eta=eta, numberofclasses=num_classes, iteration_num=num_iterations)"
      ]
    },
    {
      "cell_type": "code",
      "execution_count": null,
      "metadata": {
        "colab": {
          "base_uri": "https://localhost:8080/"
        },
        "id": "3quhcIHrSzCE",
        "outputId": "7515fbd5-4b88-473c-db65-150dc4ed8055"
      },
      "outputs": [
        {
          "name": "stdout",
          "output_type": "stream",
          "text": [
            "test accuracy is 0.8947368421052632\n"
          ]
        }
      ],
      "source": [
        "y_test_pred = predict(X_test, W_best_sgd)\n",
        "test_accuracy = np.mean(y_test == y_test_pred)\n",
        "print('test accuracy is', test_accuracy)"
      ]
    },
    {
      "cell_type": "markdown",
      "metadata": {
        "id": "KhuC0QqY3yrJ"
      },
      "source": [
        "### Wine dataset"
      ]
    },
    {
      "cell_type": "code",
      "execution_count": null,
      "metadata": {
        "id": "r2ispRnC69eJ"
      },
      "outputs": [],
      "source": [
        "from sklearn.datasets import load_wine\n",
        "wine = load_wine()\n",
        "X = wine.data\n",
        "y = wine.target\n",
        "X_train, X_test, y_train, y_test = train_test_split(X, y, test_size = 0.25, random_state = 0)"
      ]
    },
    {
      "cell_type": "code",
      "execution_count": null,
      "metadata": {
        "id": "gP31n28EgPDO"
      },
      "outputs": [],
      "source": [
        "n = X_train.shape[0]\n",
        "dim = X_train.shape[1]\n",
        "num_classes = 3\n",
        "\n",
        "W = 0.001 * np.random.randn(dim, num_classes)\n",
        "\n",
        "batch_size = n\n",
        "eta = 0.05 # learning rate \n",
        "lam = 0.1\n",
        "num_iterations = 300\n",
        "\n",
        "(W_best_sgd, all_xs_sgd200) = SGD(X_train, y_train, W, batch_size=batch_size, eta=eta, numberofclasses=num_classes, iteration_num=num_iterations)"
      ]
    },
    {
      "cell_type": "code",
      "execution_count": null,
      "metadata": {
        "colab": {
          "base_uri": "https://localhost:8080/"
        },
        "id": "vaQ1VDeFggXz",
        "outputId": "9f7b2fbc-8e37-4fc0-87e0-9b476fd5f77f"
      },
      "outputs": [
        {
          "name": "stdout",
          "output_type": "stream",
          "text": [
            "test accuracy is 0.7333333333333333\n"
          ]
        }
      ],
      "source": [
        "y_test_pred = predict(X_test, W_best_sgd)\n",
        "test_accuracy = np.mean(y_test == y_test_pred)\n",
        "print('test accuracy is', test_accuracy)"
      ]
    },
    {
      "cell_type": "markdown",
      "metadata": {
        "id": "cWJVj_HN3_nn"
      },
      "source": [
        "### Digits dataset"
      ]
    },
    {
      "cell_type": "code",
      "execution_count": null,
      "metadata": {
        "id": "lSM5weqv7KPl"
      },
      "outputs": [],
      "source": [
        "from sklearn.datasets import load_digits\n",
        "digits = load_digits()\n",
        "X = digits.data\n",
        "y = digits.target\n",
        "X_train, X_test, y_train, y_test = train_test_split(X, y, test_size = 0.25, random_state = 0)"
      ]
    },
    {
      "cell_type": "code",
      "execution_count": null,
      "metadata": {
        "id": "iUJs4GYpsCPI"
      },
      "outputs": [],
      "source": [
        "n = X_train.shape[0]\n",
        "dim = X_train.shape[1]\n",
        "num_classes = 10\n",
        "\n",
        "W = 0.001 * np.random.randn(dim, num_classes)\n",
        "\n",
        "batch_size = X_train.shape[0]\n",
        "eta = 0.3 # learning rate \n",
        "lam = 0.2\n",
        "num_iterations = 100\n",
        "\n",
        "# Optimize values of W, on the training data.\n",
        "(W_best_sgd, all_xs_sgd200) = SGD(X_train, y_train, W, batch_size=batch_size, eta=eta, numberofclasses=num_classes, iteration_num=num_iterations)"
      ]
    },
    {
      "cell_type": "code",
      "execution_count": null,
      "metadata": {
        "colab": {
          "base_uri": "https://localhost:8080/"
        },
        "id": "W8HQ5g_5sMQz",
        "outputId": "e8051ac0-eeee-454f-8f6b-b79cf1a07f57"
      },
      "outputs": [
        {
          "name": "stdout",
          "output_type": "stream",
          "text": [
            "test accuracy is 0.9333333333333333\n"
          ]
        }
      ],
      "source": [
        "y_test_pred = predict(X_test, W_best_sgd)\n",
        "test_accuracy = np.mean(y_test == y_test_pred)\n",
        "print('test accuracy is', test_accuracy)"
      ]
    },
    {
      "cell_type": "markdown",
      "metadata": {
        "id": "8wQxkfqG4RvV"
      },
      "source": [
        "# Logistic Regression of scikit-learn library"
      ]
    },
    {
      "cell_type": "markdown",
      "metadata": {
        "id": "CIcEagyL5jB_"
      },
      "source": [
        "## Testing accuracy on different datasets"
      ]
    },
    {
      "cell_type": "markdown",
      "metadata": {
        "id": "3npDMfdE5s-n"
      },
      "source": [
        "### Iris dataset"
      ]
    },
    {
      "cell_type": "code",
      "execution_count": null,
      "metadata": {
        "id": "XlCwEqsXYgEC"
      },
      "outputs": [],
      "source": [
        "from sklearn.datasets import load_iris\n",
        "iris = load_iris()\n",
        "X = iris.data\n",
        "y = iris.target\n",
        "X_train, X_test, y_train, y_test = train_test_split(X, y, test_size = 0.25, random_state = 0)"
      ]
    },
    {
      "cell_type": "code",
      "execution_count": null,
      "metadata": {
        "colab": {
          "base_uri": "https://localhost:8080/"
        },
        "id": "XX6rW2g8UVGW",
        "outputId": "91ce10a2-325a-4ec5-f415-7866fe239bb5"
      },
      "outputs": [
        {
          "name": "stderr",
          "output_type": "stream",
          "text": [
            "/usr/local/lib/python3.7/dist-packages/sklearn/linear_model/_sag.py:354: ConvergenceWarning: The max_iter was reached which means the coef_ did not converge\n",
            "  ConvergenceWarning,\n"
          ]
        },
        {
          "data": {
            "text/plain": [
              "LogisticRegression(random_state=0, solver='saga')"
            ]
          },
          "execution_count": 86,
          "metadata": {},
          "output_type": "execute_result"
        }
      ],
      "source": [
        "from sklearn.linear_model import LogisticRegression\n",
        "classifier = LogisticRegression(random_state = 0, solver='saga', multi_class='auto')\n",
        "classifier.fit(X_train, y_train)\n"
      ]
    },
    {
      "cell_type": "code",
      "execution_count": null,
      "metadata": {
        "colab": {
          "base_uri": "https://localhost:8080/"
        },
        "id": "kg62bNnDawWp",
        "outputId": "2626bb88-d208-4475-e8b6-38cf7a2559ad"
      },
      "outputs": [
        {
          "name": "stdout",
          "output_type": "stream",
          "text": [
            "test accuracy is 0.9473684210526315\n"
          ]
        }
      ],
      "source": [
        "y_pred = classifier.predict(X_test)\n",
        "test_accuracy = np.mean(y_test == y_pred)\n",
        "print('test accuracy is', test_accuracy)"
      ]
    },
    {
      "cell_type": "markdown",
      "metadata": {
        "id": "EV5bOv615w2X"
      },
      "source": [
        "### Wine dataset"
      ]
    },
    {
      "cell_type": "code",
      "execution_count": null,
      "metadata": {
        "id": "spASQzoEbDXo"
      },
      "outputs": [],
      "source": [
        "from sklearn.datasets import load_wine\n",
        "wine = load_wine()\n",
        "X = wine.data\n",
        "y = wine.target\n",
        "X_train, X_test, y_train, y_test = train_test_split(X, y, test_size = 0.25, random_state = 0)"
      ]
    },
    {
      "cell_type": "code",
      "execution_count": null,
      "metadata": {
        "colab": {
          "base_uri": "https://localhost:8080/"
        },
        "id": "mU_fTPRjf1FR",
        "outputId": "144362be-ae82-452d-a6db-6e05d3f1056a"
      },
      "outputs": [
        {
          "name": "stdout",
          "output_type": "stream",
          "text": [
            "test accuracy is 0.7777777777777778\n"
          ]
        },
        {
          "name": "stderr",
          "output_type": "stream",
          "text": [
            "/usr/local/lib/python3.7/dist-packages/sklearn/linear_model/_sag.py:354: ConvergenceWarning: The max_iter was reached which means the coef_ did not converge\n",
            "  ConvergenceWarning,\n"
          ]
        }
      ],
      "source": [
        "from sklearn.linear_model import LogisticRegression\n",
        "classifier = LogisticRegression(fit_intercept = False, random_state = 0, solver='saga', multi_class='auto')\n",
        "classifier.fit(X_train, y_train)\n",
        "y_pred = classifier.predict(X_test)\n",
        "test_accuracy = np.mean(y_test == y_pred)\n",
        "print('test accuracy is', test_accuracy)"
      ]
    },
    {
      "cell_type": "markdown",
      "metadata": {
        "id": "5Ejvv9zR5zSQ"
      },
      "source": [
        "### Digits dataset"
      ]
    },
    {
      "cell_type": "code",
      "execution_count": null,
      "metadata": {
        "id": "YVVnyWJZglBQ"
      },
      "outputs": [],
      "source": [
        "from sklearn.datasets import load_digits\n",
        "digits = load_digits()\n",
        "X = digits.data\n",
        "y = digits.target\n",
        "X_train, X_test, y_train, y_test = train_test_split(X, y, test_size = 0.25, random_state = 0)"
      ]
    },
    {
      "cell_type": "code",
      "execution_count": null,
      "metadata": {
        "colab": {
          "base_uri": "https://localhost:8080/"
        },
        "id": "nY8Kv83Rr50W",
        "outputId": "64956878-acb7-4c78-ac55-1bc7beaa93da"
      },
      "outputs": [
        {
          "name": "stdout",
          "output_type": "stream",
          "text": [
            "test accuracy is 0.9622222222222222\n"
          ]
        },
        {
          "name": "stderr",
          "output_type": "stream",
          "text": [
            "/usr/local/lib/python3.7/dist-packages/sklearn/linear_model/_sag.py:354: ConvergenceWarning: The max_iter was reached which means the coef_ did not converge\n",
            "  ConvergenceWarning,\n"
          ]
        }
      ],
      "source": [
        "from sklearn.linear_model import LogisticRegression\n",
        "classifier = LogisticRegression(random_state = 0, solver='saga', multi_class='auto')\n",
        "classifier.fit(X_train, y_train)\n",
        "y_pred = classifier.predict(X_test)\n",
        "test_accuracy = np.mean(y_test == y_pred)\n",
        "print('test accuracy is', test_accuracy)"
      ]
    },
    {
      "cell_type": "markdown",
      "metadata": {
        "id": "SusJgcNf4d4G"
      },
      "source": [
        "# Implementation of the modification suggested"
      ]
    },
    {
      "cell_type": "code",
      "execution_count": 160,
      "metadata": {
        "id": "xj-8_m2QsQWF"
      },
      "outputs": [],
      "source": [
        "def uniform(z):\n",
        "  return z / np.sum(z) "
      ]
    },
    {
      "cell_type": "code",
      "execution_count": 174,
      "metadata": {
        "id": "PfziJghy8lDJ"
      },
      "outputs": [],
      "source": [
        "def my_predict(X, W):\n",
        "\n",
        "    y_pred = []\n",
        "    for i in range(X.shape[0]):\n",
        "      y_pred.append(np.argmax(uniform(np.dot(W.T,X[i,:]))))\n",
        "\n",
        "    return y_pred"
      ]
    },
    {
      "cell_type": "markdown",
      "metadata": {
        "id": "ULEMa2oZ43oQ"
      },
      "source": [
        "## Testing accuracy on different datasets"
      ]
    },
    {
      "cell_type": "markdown",
      "metadata": {
        "id": "LLzElqfN7pCX"
      },
      "source": [
        "### Iris dataset"
      ]
    },
    {
      "cell_type": "code",
      "execution_count": 175,
      "metadata": {
        "id": "UCKkrr8l-t7J"
      },
      "outputs": [],
      "source": [
        "from sklearn.datasets import load_iris\n",
        "iris = load_iris()\n",
        "X = iris.data\n",
        "y = iris.target\n",
        "X_train, X_test, y_train, y_test = train_test_split(X, y, test_size = 0.25, random_state = 0)"
      ]
    },
    {
      "cell_type": "code",
      "execution_count": 176,
      "metadata": {
        "id": "IhDIsQkk-yPD"
      },
      "outputs": [],
      "source": [
        "n = X_train.shape[0]\n",
        "dim = X_train.shape[1] \n",
        "num_classes = 3\n",
        "\n",
        "W = 0.001 * np.random.randn(dim, num_classes)\n",
        "\n",
        "batch_size = X_train.shape[0]\n",
        "eta = 0.1653 # learning rate \n",
        "lam = 0.2\n",
        "num_iterations = 100\n",
        "\n",
        "(W_best_sgd, all_xs_sgd200) = SGD(X_train, y_train, W, batch_size=batch_size, eta=eta, numberofclasses=num_classes, iteration_num=num_iterations)"
      ]
    },
    {
      "cell_type": "code",
      "execution_count": 177,
      "metadata": {
        "colab": {
          "base_uri": "https://localhost:8080/"
        },
        "id": "Z-_547OO-ypb",
        "outputId": "915f328a-a9f0-4109-ee3e-e950a19d99fa"
      },
      "outputs": [
        {
          "output_type": "stream",
          "name": "stdout",
          "text": [
            "test accuracy is 0.8947368421052632\n"
          ]
        }
      ],
      "source": [
        "y_test_pred = my_predict(X_test, W_best_sgd)\n",
        "test_accuracy = np.mean(y_test == y_test_pred)\n",
        "print('test accuracy is', test_accuracy)"
      ]
    },
    {
      "cell_type": "code",
      "execution_count": 178,
      "metadata": {
        "colab": {
          "base_uri": "https://localhost:8080/"
        },
        "id": "eJ8-MctZClxq",
        "outputId": "55139172-2b11-490b-cdf4-5a6e31db1a58"
      },
      "outputs": [
        {
          "output_type": "stream",
          "name": "stdout",
          "text": [
            "test accuracy is 0.8947368421052632\n"
          ]
        }
      ],
      "source": [
        "y_test_pred = predict(X_test, W_best_sgd)\n",
        "test_accuracy = np.mean(y_test == y_test_pred)\n",
        "print('test accuracy is', test_accuracy)"
      ]
    },
    {
      "cell_type": "markdown",
      "metadata": {
        "id": "L5wFic5Z78Mi"
      },
      "source": [
        "### Wine dataset"
      ]
    },
    {
      "cell_type": "code",
      "execution_count": 179,
      "metadata": {
        "id": "F7Kop6el8532"
      },
      "outputs": [],
      "source": [
        "from sklearn.datasets import load_wine\n",
        "wine = load_wine()\n",
        "X = wine.data\n",
        "y = wine.target\n",
        "X_train, X_test, y_train, y_test = train_test_split(X, y, test_size = 0.25, random_state = 0)"
      ]
    },
    {
      "cell_type": "code",
      "execution_count": 180,
      "metadata": {
        "id": "HFdqRMeyC5ab"
      },
      "outputs": [],
      "source": [
        "n = X_train.shape[0]\n",
        "dim = X_train.shape[1] \n",
        "num_classes = 3\n",
        "\n",
        "W = 0.001 * np.random.randn(dim, num_classes)\n",
        "\n",
        "batch_size = X_train.shape[0]\n",
        "eta = 0.18 # learning rate \n",
        "lam = 0.1\n",
        "num_iterations = 100\n",
        "\n",
        "(W_best_sgd, all_xs_sgd200) = SGD(X_train, y_train, W, batch_size=batch_size, eta=eta, numberofclasses=num_classes, iteration_num=num_iterations)"
      ]
    },
    {
      "cell_type": "code",
      "execution_count": 221,
      "metadata": {
        "colab": {
          "base_uri": "https://localhost:8080/"
        },
        "id": "MsOFipWOCsoE",
        "outputId": "cda06f6b-0799-4afc-94fe-a41db18e30eb"
      },
      "outputs": [
        {
          "output_type": "stream",
          "name": "stdout",
          "text": [
            "test accuracy is 0.7333333333333333\n"
          ]
        },
        {
          "output_type": "stream",
          "name": "stderr",
          "text": [
            "/usr/local/lib/python3.7/dist-packages/ipykernel_launcher.py:2: DeprecationWarning: elementwise comparison failed; this will raise an error in the future.\n",
            "  \n"
          ]
        }
      ],
      "source": [
        "y_test_pred = my_predict(X_test, W_best_sgd)\n",
        "test_accuracy = np.mean(y_test == y_test_pred)\n",
        "print('test accuracy is', test_accuracy)"
      ]
    },
    {
      "cell_type": "code",
      "execution_count": 222,
      "metadata": {
        "colab": {
          "base_uri": "https://localhost:8080/"
        },
        "id": "K5PZMd0oCuN0",
        "outputId": "378631b8-3b58-4ef3-da9b-464af9079b72"
      },
      "outputs": [
        {
          "output_type": "stream",
          "name": "stdout",
          "text": [
            "test accuracy is 0.7333333333333333\n"
          ]
        },
        {
          "output_type": "stream",
          "name": "stderr",
          "text": [
            "/usr/local/lib/python3.7/dist-packages/ipykernel_launcher.py:2: DeprecationWarning: elementwise comparison failed; this will raise an error in the future.\n",
            "  \n"
          ]
        }
      ],
      "source": [
        "y_test_pred = predict(X_test, W_best_sgd)\n",
        "test_accuracy = np.mean(y_test == y_test_pred)\n",
        "print('test accuracy is', test_accuracy)"
      ]
    },
    {
      "cell_type": "markdown",
      "metadata": {
        "id": "2CaULNr38CbH"
      },
      "source": [
        "### Digits dataset"
      ]
    },
    {
      "cell_type": "code",
      "execution_count": 183,
      "metadata": {
        "id": "IL2qz-US8-NI"
      },
      "outputs": [],
      "source": [
        "from sklearn.datasets import load_digits\n",
        "digits = load_digits()\n",
        "X = digits.data\n",
        "y = digits.target\n",
        "X_train, X_test, y_train, y_test = train_test_split(X, y, test_size = 0.25, random_state = 0)"
      ]
    },
    {
      "cell_type": "code",
      "execution_count": 184,
      "metadata": {
        "id": "9EzYeCvVDiXw"
      },
      "outputs": [],
      "source": [
        "n = X_train.shape[0]\n",
        "dim = X_train.shape[1] \n",
        "num_classes = 10\n",
        "\n",
        "W = 0.001 * np.random.randn(dim, num_classes)\n",
        "\n",
        "batch_size = X_train.shape[0]\n",
        "eta = 0.18 # learning rate \n",
        "lam = 0.1\n",
        "num_iterations = 100\n",
        "\n",
        "(W_best_sgd, all_xs_sgd200) = SGD(X_train, y_train, W, batch_size=batch_size, eta=eta, numberofclasses=num_classes, iteration_num=num_iterations)"
      ]
    },
    {
      "cell_type": "code",
      "execution_count": 188,
      "metadata": {
        "colab": {
          "base_uri": "https://localhost:8080/"
        },
        "id": "J0nd46EMDnHK",
        "outputId": "03eb9d87-9071-4010-8423-ee2c2561cc52"
      },
      "outputs": [
        {
          "output_type": "stream",
          "name": "stdout",
          "text": [
            "test accuracy is 0.8355555555555555\n"
          ]
        }
      ],
      "source": [
        "y_test_pred = my_predict(X_test, W_best_sgd)\n",
        "test_accuracy = np.mean(y_test == y_test_pred)\n",
        "print('test accuracy is', test_accuracy)"
      ]
    },
    {
      "cell_type": "code",
      "execution_count": 189,
      "metadata": {
        "colab": {
          "base_uri": "https://localhost:8080/"
        },
        "id": "ZJPdmF_PDov4",
        "outputId": "809f5c52-3964-4577-e489-f0ba500101ff"
      },
      "outputs": [
        {
          "output_type": "stream",
          "name": "stdout",
          "text": [
            "test accuracy is 0.9333333333333333\n"
          ]
        }
      ],
      "source": [
        "y_test_pred = predict(X_test, W_best_sgd)\n",
        "test_accuracy = np.mean(y_test == y_test_pred)\n",
        "print('test accuracy is', test_accuracy)"
      ]
    },
    {
      "cell_type": "markdown",
      "metadata": {
        "id": "HwcGzAyF7wMl"
      },
      "source": [
        "### MNIST dataset"
      ]
    },
    {
      "cell_type": "code",
      "execution_count": 190,
      "metadata": {
        "id": "vp1TyKIv_EnH"
      },
      "outputs": [],
      "source": [
        "mndata = MNIST()\n",
        "X_train, Y_train = map(np.array, mndata.load_training())\n",
        "X_test, Y_test = map(np.array, mndata.load_testing())\n",
        "X_train = X_train / 255.0\n",
        "X_test = X_test / 255.0"
      ]
    },
    {
      "cell_type": "code",
      "execution_count": 191,
      "metadata": {
        "id": "XRmtHDmAPrsu"
      },
      "outputs": [],
      "source": [
        "n = X_train.shape[0]\n",
        "dim = X_train.shape[1] \n",
        "num_classes = 10\n",
        "\n",
        "W = 0.001 * np.random.randn(dim, num_classes)\n",
        "\n",
        "batch_size = 500\n",
        "eta = 0.2 # learning rate \n",
        "lam = 0.1\n",
        "num_iterations = 100\n",
        "\n",
        "(W_best_sgd, all_xs_sgd200) = SGD(X_train, Y_train, W, batch_size=batch_size, eta=eta, numberofclasses=num_classes, iteration_num=num_iterations)"
      ]
    },
    {
      "cell_type": "code",
      "execution_count": 197,
      "metadata": {
        "colab": {
          "base_uri": "https://localhost:8080/"
        },
        "id": "ahTpQCnyP76i",
        "outputId": "3243d68c-fc85-4804-945b-71cbcb88e06a"
      },
      "outputs": [
        {
          "output_type": "stream",
          "name": "stdout",
          "text": [
            "test accuracy is 0.859\n"
          ]
        }
      ],
      "source": [
        "y_test_pred = predict(X_test, W_best_sgd)\n",
        "test_accuracy = np.mean(Y_test == y_test_pred)\n",
        "print('test accuracy is', test_accuracy)"
      ]
    },
    {
      "cell_type": "code",
      "execution_count": 193,
      "metadata": {
        "colab": {
          "base_uri": "https://localhost:8080/"
        },
        "id": "pjCRiMZLQUsp",
        "outputId": "1ecd6613-69c0-4273-f833-1594fed72f2d"
      },
      "outputs": [
        {
          "output_type": "stream",
          "name": "stdout",
          "text": [
            "test accuracy is 0.5248\n"
          ]
        }
      ],
      "source": [
        "y_test_pred = my_predict(X_test, W_best_sgd)\n",
        "test_accuracy = np.mean(Y_test == y_test_pred)\n",
        "print('test accuracy is', test_accuracy)"
      ]
    },
    {
      "cell_type": "markdown",
      "metadata": {
        "id": "Y1y4KcrKzzwg"
      },
      "source": [
        "## Learning dynamics of scratch implementation"
      ]
    },
    {
      "cell_type": "code",
      "execution_count": 154,
      "metadata": {
        "colab": {
          "base_uri": "https://localhost:8080/",
          "height": 312
        },
        "id": "a_pdz0P6Fu_s",
        "outputId": "341f0251-78c2-4501-983b-994ae22438d0"
      },
      "outputs": [
        {
          "output_type": "display_data",
          "data": {
            "image/png": "[encoded data removed]",
            "text/plain": [
              "<Figure size 432x288 with 1 Axes>"
            ]
          },
          "metadata": {
            "needs_background": "light"
          }
        },
        {
          "output_type": "display_data",
          "data": {
            "application/javascript": [
              "\n",
              "    async function download(id, filename, size) {\n",
              "      if (!google.colab.kernel.accessAllowed) {\n",
              "        return;\n",
              "      }\n",
              "      const div = document.createElement('div');\n",
              "      const label = document.createElement('label');\n",
              "      label.textContent = `Downloading \"${filename}\": `;\n",
              "      div.appendChild(label);\n",
              "      const progress = document.createElement('progress');\n",
              "      progress.max = size;\n",
              "      div.appendChild(progress);\n",
              "      document.body.appendChild(div);\n",
              "\n",
              "      const buffers = [];\n",
              "      let downloaded = 0;\n",
              "\n",
              "      const channel = await google.colab.kernel.comms.open(id);\n",
              "      // Send a message to notify the kernel that we're ready.\n",
              "      channel.send({})\n",
              "\n",
              "      for await (const message of channel.messages) {\n",
              "        // Send a message to notify the kernel that we're ready.\n",
              "        channel.send({})\n",
              "        if (message.buffers) {\n",
              "          for (const buffer of message.buffers) {\n",
              "            buffers.push(buffer);\n",
              "            downloaded += buffer.byteLength;\n",
              "            progress.value = downloaded;\n",
              "          }\n",
              "        }\n",
              "      }\n",
              "      const blob = new Blob(buffers, {type: 'application/binary'});\n",
              "      const a = document.createElement('a');\n",
              "      a.href = window.URL.createObjectURL(blob);\n",
              "      a.download = filename;\n",
              "      div.appendChild(a);\n",
              "      a.click();\n",
              "      div.remove();\n",
              "    }\n",
              "  "
            ],
            "text/plain": [
              "<IPython.core.display.Javascript object>"
            ]
          },
          "metadata": {}
        },
        {
          "output_type": "display_data",
          "data": {
            "application/javascript": [
              "download(\"download_f2ddab2f-f622-42b4-8237-adee24b7e615\", \"SGD.pdf\", 1191)"
            ],
            "text/plain": [
              "<IPython.core.display.Javascript object>"
            ]
          },
          "metadata": {}
        },
        {
          "output_type": "display_data",
          "data": {
            "text/plain": [
              "<Figure size 432x288 with 0 Axes>"
            ]
          },
          "metadata": {}
        }
      ],
      "source": [
        "plt.figure(1)\n",
        "plt.plot([L_function(X=X_train, y=Y_train, W=x, lam=lam, numberofclasses=num_classes) for x in all_xs_sgd200])\n",
        "plt.plot([L_function(X=X_test, y=Y_test, W=x, lam=lam, numberofclasses=num_classes) for x in all_xs_sgd200]) # use parameters learned from training dataset\n",
        "plt.title('SGD Function Value at each iteration (batch_size = 500)')\n",
        "plt.ylabel('L(W)')\n",
        "plt.xlabel('Iteration Number')\n",
        "plt.legend(['Training', 'Testing'])\n",
        "plt.show()\n",
        "plt.savefig('SGD.pdf')\n"
      ]
    },
    {
      "cell_type": "code",
      "execution_count": 155,
      "metadata": {
        "colab": {
          "base_uri": "https://localhost:8080/",
          "height": 312
        },
        "id": "8YXvNJUxFxAY",
        "outputId": "55150ffb-693e-46d1-aed4-535c0989e264"
      },
      "outputs": [
        {
          "output_type": "display_data",
          "data": {
            "image/png": "[encoded data removed]",
            "text/plain": [
              "<Figure size 432x288 with 1 Axes>"
            ]
          },
          "metadata": {
            "needs_background": "light"
          }
        },
        {
          "output_type": "display_data",
          "data": {
            "application/javascript": [
              "\n",
              "    async function download(id, filename, size) {\n",
              "      if (!google.colab.kernel.accessAllowed) {\n",
              "        return;\n",
              "      }\n",
              "      const div = document.createElement('div');\n",
              "      const label = document.createElement('label');\n",
              "      label.textContent = `Downloading \"${filename}\": `;\n",
              "      div.appendChild(label);\n",
              "      const progress = document.createElement('progress');\n",
              "      progress.max = size;\n",
              "      div.appendChild(progress);\n",
              "      document.body.appendChild(div);\n",
              "\n",
              "      const buffers = [];\n",
              "      let downloaded = 0;\n",
              "\n",
              "      const channel = await google.colab.kernel.comms.open(id);\n",
              "      // Send a message to notify the kernel that we're ready.\n",
              "      channel.send({})\n",
              "\n",
              "      for await (const message of channel.messages) {\n",
              "        // Send a message to notify the kernel that we're ready.\n",
              "        channel.send({})\n",
              "        if (message.buffers) {\n",
              "          for (const buffer of message.buffers) {\n",
              "            buffers.push(buffer);\n",
              "            downloaded += buffer.byteLength;\n",
              "            progress.value = downloaded;\n",
              "          }\n",
              "        }\n",
              "      }\n",
              "      const blob = new Blob(buffers, {type: 'application/binary'});\n",
              "      const a = document.createElement('a');\n",
              "      a.href = window.URL.createObjectURL(blob);\n",
              "      a.download = filename;\n",
              "      div.appendChild(a);\n",
              "      a.click();\n",
              "      div.remove();\n",
              "    }\n",
              "  "
            ],
            "text/plain": [
              "<IPython.core.display.Javascript object>"
            ]
          },
          "metadata": {}
        },
        {
          "output_type": "display_data",
          "data": {
            "application/javascript": [
              "download(\"download_24387097-3cda-412f-a306-55593961a96e\", \"ACC.pdf\", 1191)"
            ],
            "text/plain": [
              "<IPython.core.display.Javascript object>"
            ]
          },
          "metadata": {}
        },
        {
          "output_type": "display_data",
          "data": {
            "text/plain": [
              "<Figure size 432x288 with 0 Axes>"
            ]
          },
          "metadata": {}
        }
      ],
      "source": [
        "plt.figure(2)\n",
        "# skips plotting the error rate at iteration zero with w = 0\n",
        "plt.plot([reg_rate(X=X_train, y=Y_train, W=x) for x in all_xs_sgd200[1:]])\n",
        "plt.plot([reg_rate(X=X_test, y=Y_test, W=x) for x in all_xs_sgd200[1:]]) # use parameters learned from training dataset\n",
        "plt.title('Accuracy at each iteration (batch_size = 500)')\n",
        "plt.ylabel('Accuracy')\n",
        "plt.xlabel('Iteration Number')\n",
        "plt.legend(['Training', 'Testing'])\n",
        "plt.show()\n",
        "plt.savefig('ACC.pdf')\n"
      ]
    },
    {
      "cell_type": "markdown",
      "source": [
        "# Reasons why standard normalization performs worse"
      ],
      "metadata": {
        "id": "sXZGGfZDEiOZ"
      }
    },
    {
      "cell_type": "code",
      "source": [
        "print(softmax(np.array([1,2])))"
      ],
      "metadata": {
        "id": "DRYTWtJnQRo4",
        "outputId": "7773fb8a-46c6-49e3-b9c8-2e3c7be1309b",
        "colab": {
          "base_uri": "https://localhost:8080/"
        }
      },
      "execution_count": 198,
      "outputs": [
        {
          "output_type": "stream",
          "name": "stdout",
          "text": [
            "[0.26894142 0.73105858]\n"
          ]
        }
      ]
    },
    {
      "cell_type": "code",
      "source": [
        "print(softmax(np.array([10,20])))"
      ],
      "metadata": {
        "id": "1ZedtAV3QigL",
        "outputId": "87dd80e2-27a5-44a7-a4e6-8416d6f68497",
        "colab": {
          "base_uri": "https://localhost:8080/"
        }
      },
      "execution_count": 210,
      "outputs": [
        {
          "output_type": "stream",
          "name": "stdout",
          "text": [
            "[4.53978687e-05 9.99954602e-01]\n"
          ]
        }
      ]
    },
    {
      "cell_type": "code",
      "source": [
        "print(uniform(np.array([1,-4])))"
      ],
      "metadata": {
        "id": "9QAtWABrS8ZP",
        "outputId": "7bc6819d-f2cd-4f4c-e3db-e1d14efac0ae",
        "colab": {
          "base_uri": "https://localhost:8080/"
        }
      },
      "execution_count": 215,
      "outputs": [
        {
          "output_type": "stream",
          "name": "stdout",
          "text": [
            "[-0.33333333  1.33333333]\n"
          ]
        }
      ]
    }
  ],
  "metadata": {
    "colab": {
      "name": "MulticlassLogisticRegression.ipynb",
      "toc_visible": true,
      "provenance": []
    },
    "kernelspec": {
      "display_name": "Python 3",
      "name": "python3"
    },
    "language_info": {
      "name": "python"
    }
  },
  "nbformat": 4,
  "nbformat_minor": 0
}